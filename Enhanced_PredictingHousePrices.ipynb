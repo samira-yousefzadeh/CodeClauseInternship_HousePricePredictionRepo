{
 "cells": [
  {
   "cell_type": "markdown",
   "id": "3a3ba7ff",
   "metadata": {},
   "source": [
    "# 🏠 Predicting House Prices Using Linear Regression\n",
    "\n",
    "## ✨ Foreword\n",
    "\n",
    "This project explores house price prediction using a simple linear regression model trained on features such as average income, number of rooms, house age, and population.  \n",
    "The aim is to build a foundational understanding of predictive modeling and bridge theory with practical implementation in both **Jupyter Notebook** and a **Flask-based web interface**.\n",
    "\n",
    "---\n",
    "\n",
    "## 🗂️ Table of Contents\n",
    "1. [Importing Libraries](#importing-libraries)\n",
    "2. [Loading Dataset](#loading-dataset)\n",
    "3. [Exploratory Data Analysis](#exploratory-data-analysis)\n",
    "4. [Feature Selection](#feature-selection)\n",
    "5. [Model Building](#model-building)\n",
    "6. [Evaluation](#evaluation)\n",
    "7. [Conclusion](#conclusion)\n",
    "\n",
    "---\n"
   ]
  },
  {
   "cell_type": "code",
   "execution_count": null,
   "id": "40cbb44e-5d93-4db6-8c67-f0c0137e41b7",
   "metadata": {},
   "outputs": [],
   "source": [
    "import pandas as pd\n",
    "import numpy as np\n",
    "import matplotlib.pyplot as plt\n",
    "import seaborn as sns\n",
    "from sklearn.metrics import mean_squared_error,r2_score"
   ]
  },
  {
   "cell_type": "code",
   "execution_count": null,
   "id": "9908f097",
   "metadata": {},
   "outputs": [],
   "source": [
    "%matplotlib inline\n",
    "%matplotlib qt"
   ]
  },
  {
   "cell_type": "markdown",
   "id": "133b772b",
   "metadata": {},
   "source": [
    "## 2. 📂 Loading Dataset"
   ]
  },
  {
   "cell_type": "code",
   "execution_count": null,
   "id": "d691b132",
   "metadata": {},
   "outputs": [],
   "source": [
    "df=pd.read_csv('USA_Housing.csv')"
   ]
  },
  {
   "cell_type": "code",
   "execution_count": null,
   "id": "7101f7f2",
   "metadata": {},
   "outputs": [],
   "source": [
    "df.head()"
   ]
  },
  {
   "cell_type": "code",
   "execution_count": null,
   "id": "a5f0bf48",
   "metadata": {},
   "outputs": [],
   "source": [
    "df.shape"
   ]
  },
  {
   "cell_type": "code",
   "execution_count": null,
   "id": "b0796d09",
   "metadata": {},
   "outputs": [],
   "source": [
    "df.info()"
   ]
  },
  {
   "cell_type": "code",
   "execution_count": null,
   "id": "b82eef4b",
   "metadata": {},
   "outputs": [],
   "source": [
    "df.describe()"
   ]
  },
  {
   "cell_type": "code",
   "execution_count": null,
   "id": "2ffa79df",
   "metadata": {},
   "outputs": [],
   "source": [
    "df.isnull().count()"
   ]
  },
  {
   "cell_type": "code",
   "execution_count": null,
   "id": "6ae97d97",
   "metadata": {},
   "outputs": [],
   "source": [
    "df.isnull().sum()"
   ]
  },
  {
   "cell_type": "code",
   "execution_count": null,
   "id": "3a7c07f4",
   "metadata": {},
   "outputs": [],
   "source": [
    "df.columns"
   ]
  },
  {
   "cell_type": "markdown",
   "id": "9000577e",
   "metadata": {},
   "source": [
    "## 3. 📊 Exploratory Data Analysis (EDA)\n",
    "\n",
    "We begin by visualizing the data distribution and relationships between features."
   ]
  },
  {
   "cell_type": "markdown",
   "id": "6e6aa14f",
   "metadata": {},
   "source": [
    "### 🔍 Pairplot Insight\n",
    "This plot helps identify correlations and possible linear relationships. E.g., Area Income shows a positive trend with Price."
   ]
  },
  {
   "cell_type": "code",
   "execution_count": null,
   "id": "a4e65846",
   "metadata": {},
   "outputs": [],
   "source": [
    "# This dataset is artificially created\n",
    "# Histogram, corrolation and scatterplots of all the columns \n",
    "# we can see in histogram everything is more or less normally distributed\n",
    "# except forthe average number of bedrooms, it's segmented to 2,3,4,5,6. There is soem noise around there\n",
    "# cause we can't have 4.5 bedrooms\n",
    "sns.pairplot(df)\n",
    "plt.show(block=True)"
   ]
  },
  {
   "cell_type": "code",
   "execution_count": null,
   "id": "c2aab027",
   "metadata": {},
   "outputs": [],
   "source": [
    "sns.displot(df)\n",
    "plt.show(block=True)"
   ]
  },
  {
   "cell_type": "code",
   "execution_count": null,
   "id": "751da5dd",
   "metadata": {},
   "outputs": [],
   "source": [
    "# Checking out distribution of Price column (our Target Column)\n",
    "sns.distplot(df['Price'],kde=True,bins=30,vertical=False,rug=True,hist=True)\n",
    "sns.set_palette(\"GnBu_d\")\n",
    "sns.set_style('whitegrid')\n",
    "plt.show(block=True)\n",
    "# The average price falls somewhere around 1m and 1.5m. \n",
    "# This is a nice case we're not gonna work on cleaning the data"
   ]
  },
  {
   "cell_type": "code",
   "execution_count": null,
   "id": "e7ee82cc",
   "metadata": {},
   "outputs": [],
   "source": [
    "# simple plots to checkout data\n",
    "plt.hist(x=df['Price'])\n",
    "plt.show()"
   ]
  },
  {
   "cell_type": "code",
   "execution_count": null,
   "id": "bba4e3fe",
   "metadata": {},
   "outputs": [],
   "source": [
    "sns.lmplot(x='Avg. Area Income',y='Price',data=df)\n",
    "plt.show(block=True)"
   ]
  },
  {
   "cell_type": "code",
   "execution_count": null,
   "id": "c784983d",
   "metadata": {},
   "outputs": [],
   "source": [
    "df.select_dtypes(include='number').corr()"
   ]
  },
  {
   "cell_type": "code",
   "execution_count": null,
   "id": "f160da40",
   "metadata": {},
   "outputs": [],
   "source": [
    "# df.drop('Address',axis=1,inplace=True)\n",
    "df_numeric = df.select_dtypes(include='number')"
   ]
  },
  {
   "cell_type": "code",
   "execution_count": null,
   "id": "005129a2",
   "metadata": {},
   "outputs": [],
   "source": [
    "# The Heatmap of the corrolation between each of the columns\n",
    "df_corr=df_numeric.corr()\n",
    "df_corr"
   ]
  },
  {
   "cell_type": "markdown",
   "id": "7a83beae",
   "metadata": {},
   "source": [
    "## 3. 📊 Exploratory Data Analysis (EDA)\n",
    "\n",
    "We begin by visualizing the data distribution and relationships between features."
   ]
  },
  {
   "cell_type": "markdown",
   "id": "91624f26",
   "metadata": {},
   "source": [
    "### 🔍 Pairplot Insight\n",
    "This plot helps identify correlations and possible linear relationships. E.g., Area Income shows a positive trend with Price."
   ]
  },
  {
   "cell_type": "code",
   "execution_count": null,
   "id": "22a177fa",
   "metadata": {},
   "outputs": [],
   "source": [
    "# a diagonal full correlation, each column is perfectly corrolated with itself\n",
    "# we have alot of black(low corrolation) amount\n",
    "sns.heatmap(df_corr,annot=True)\n",
    "plt.show(block=True)"
   ]
  },
  {
   "cell_type": "code",
   "execution_count": null,
   "id": "191039b5",
   "metadata": {},
   "outputs": [],
   "source": [
    "sns.lmplot(data=df,x='Price',y='Avg. Area Income')\n",
    "# plt.show(block=True)"
   ]
  },
  {
   "cell_type": "markdown",
   "id": "558cd409",
   "metadata": {},
   "source": [
    "## 1. 📦 Importing Libraries"
   ]
  },
  {
   "cell_type": "code",
   "execution_count": null,
   "id": "d3787de0",
   "metadata": {},
   "outputs": [],
   "source": [
    "from sklearn.model_selection import train_test_split"
   ]
  },
  {
   "cell_type": "code",
   "execution_count": null,
   "id": "d583c549",
   "metadata": {},
   "outputs": [],
   "source": [
    "# We earlier tossed out Address column as it contains non numeric data (df_numeric = df.select_dtypes(include='number'))\n",
    "df_numeric.head()"
   ]
  },
  {
   "cell_type": "code",
   "execution_count": null,
   "id": "6804e7c7",
   "metadata": {},
   "outputs": [],
   "source": [
    "df_numeric.columns"
   ]
  },
  {
   "cell_type": "code",
   "execution_count": null,
   "id": "6f728e68",
   "metadata": {},
   "outputs": [],
   "source": [
    "X=df_numeric[['Avg. Area Income', 'Avg. Area House Age', 'Avg. Area Number of Rooms',\n",
    "       'Avg. Area Number of Bedrooms', 'Area Population']]"
   ]
  },
  {
   "cell_type": "code",
   "execution_count": null,
   "id": "f02223ad",
   "metadata": {},
   "outputs": [],
   "source": [
    "X.head()"
   ]
  },
  {
   "cell_type": "code",
   "execution_count": null,
   "id": "d1f39ced",
   "metadata": {},
   "outputs": [],
   "source": [
    "y=df_numeric['Price']"
   ]
  },
  {
   "cell_type": "code",
   "execution_count": null,
   "id": "000ef42e",
   "metadata": {},
   "outputs": [],
   "source": [
    "X_train, X_test, y_train, y_test = train_test_split(X, y, test_size=0.3, random_state=101)"
   ]
  },
  {
   "cell_type": "markdown",
   "id": "380b8119",
   "metadata": {},
   "source": [
    "## 1. 📦 Importing Libraries"
   ]
  },
  {
   "cell_type": "code",
   "execution_count": null,
   "id": "9f1ab381",
   "metadata": {},
   "outputs": [],
   "source": [
    "from sklearn.linear_model import LinearRegression"
   ]
  },
  {
   "cell_type": "markdown",
   "id": "081cd5d5",
   "metadata": {},
   "source": [
    "## 5. 🧠 Model Building\n",
    "\n",
    "We now train a linear regression model using scikit-learn."
   ]
  },
  {
   "cell_type": "code",
   "execution_count": null,
   "id": "e1485144",
   "metadata": {},
   "outputs": [],
   "source": [
    "linear_model=LinearRegression()"
   ]
  },
  {
   "cell_type": "code",
   "execution_count": null,
   "id": "e46be760",
   "metadata": {},
   "outputs": [],
   "source": [
    "linear_model.fit(X_train,y_train)"
   ]
  },
  {
   "cell_type": "code",
   "execution_count": null,
   "id": "fa040511",
   "metadata": {},
   "outputs": [],
   "source": [
    "# Model evaluation\n",
    "print(linear_model.intercept_)"
   ]
  },
  {
   "cell_type": "code",
   "execution_count": null,
   "id": "e9c35ead",
   "metadata": {},
   "outputs": [],
   "source": [
    "linear_model.coef_"
   ]
  },
  {
   "cell_type": "code",
   "execution_count": null,
   "id": "222c1090",
   "metadata": {},
   "outputs": [],
   "source": [
    "pd.DataFrame(linear_model.coef_.T,X_train.columns,columns=['Coeff'])\n",
    "# A one unit increase in Avg. Area House Age is associated with 165221.119872 increase in Price of the House "
   ]
  },
  {
   "cell_type": "code",
   "execution_count": null,
   "id": "d6d97462",
   "metadata": {},
   "outputs": [],
   "source": [
    "# Prediction\n",
    "predict = linear_model.predict(X_test)"
   ]
  },
  {
   "cell_type": "code",
   "execution_count": null,
   "id": "a1ca078b",
   "metadata": {},
   "outputs": [],
   "source": [
    "predict"
   ]
  },
  {
   "cell_type": "markdown",
   "id": "50df344a",
   "metadata": {},
   "source": [
    "## 6. 📈 Model Evaluation\n",
    "\n",
    "We evaluate the model using RMSE, R² Score, and residual analysis."
   ]
  },
  {
   "cell_type": "code",
   "execution_count": null,
   "id": "e93ef2ea",
   "metadata": {},
   "outputs": [],
   "source": [
    "# Evaluation\n",
    "plt.scatter(y_test,predict)\n",
    "plt.xlabel('Y Test (Target)')\n",
    "plt.ylabel('Predicted Y')\n",
    "plt.show(block=True)"
   ]
  },
  {
   "cell_type": "markdown",
   "id": "ce65e7d7-308a-46b8-ac43-fa85f75ba942",
   "metadata": {},
   "source": [
    "**Residual** = $ \\text{Actual} - \\text{Predicted} = y_{\\text{test}} - \\hat{y} $"
   ]
  },
  {
   "cell_type": "markdown",
   "id": "17324234",
   "metadata": {},
   "source": [
    "## 6. 📈 Model Evaluation\n",
    "\n",
    "We evaluate the model using RMSE, R² Score, and residual analysis."
   ]
  },
  {
   "cell_type": "code",
   "execution_count": null,
   "id": "e1836fe7",
   "metadata": {},
   "outputs": [],
   "source": [
    "sns.histplot((y_test - predict), bins=50, kde=True)\n",
    "plt.show(block=True)"
   ]
  },
  {
   "cell_type": "markdown",
   "id": "97748551",
   "metadata": {},
   "source": [
    "## 6. 📈 Model Evaluation\n",
    "\n",
    "We evaluate the model using RMSE, R² Score, and residual analysis."
   ]
  },
  {
   "cell_type": "code",
   "execution_count": null,
   "id": "81857925",
   "metadata": {},
   "outputs": [],
   "source": [
    "sns.histplot((y_test - predict), bins=50, kde=True)\n",
    "plt.title(\"Distribution of Residuals (Actual - Predicted)\")\n",
    "plt.xlabel(\"Residual\")\n",
    "plt.ylabel(\"Frequency\")\n",
    "plt.show(block=True)"
   ]
  },
  {
   "cell_type": "code",
   "execution_count": null,
   "id": "2111f05e",
   "metadata": {},
   "outputs": [],
   "source": [
    "sns.set_style(\"whitegrid\")\n",
    "plt.figure(figsize=(8,6))\n",
    "\n",
    "sns.lineplot(data=y_test, label=\"Actual Price\" , color=\"green\" ,linestyle=\"--\" ,linewidth=2,markers=\"o\")\n",
    "sns.lineplot(data=y_pred_sorted,label=\"Predicted Price\", color=\"blue\",linewidth=2, linestyle=\"-\",markers=\"s\")\n",
    "plt.title('Actual vs Predicted Car Prices (Line Chart)')\n"
   ]
  },
  {
   "cell_type": "markdown",
   "id": "035fceef",
   "metadata": {},
   "source": [
    "## 6. 📈 Model Evaluation\n",
    "\n",
    "We evaluate the model using RMSE, R² Score, and residual analysis."
   ]
  },
  {
   "cell_type": "code",
   "execution_count": null,
   "id": "c01c3d85",
   "metadata": {},
   "outputs": [],
   "source": [
    "# Sort actual and predicted for better comparison\n",
    "y_test_sorted, y_pred_sorted = zip(*sorted(zip(y_test, predict)))\n",
    "\n",
    "sns.set_style(\"whitegrid\")\n",
    "plt.figure(figsize=(10, 6))\n",
    "sns.lineplot(data=y_test_sorted, label=\"Actual Price\", color=\"green\", linestyle=\"--\", linewidth=2)\n",
    "sns.lineplot(data=y_pred_sorted, label=\"Predicted Price\", color=\"blue\", linestyle=\"-\", linewidth=2)\n",
    "plt.title(\"Linear Regression: Actual vs Predicted House Prices\")\n",
    "plt.xlabel(\"Sample Index\")\n",
    "plt.ylabel(\"Price\")\n",
    "plt.legend()\n",
    "plt.tight_layout()\n",
    "plt.show(block=True)"
   ]
  },
  {
   "cell_type": "markdown",
   "id": "987530c1",
   "metadata": {},
   "source": [
    "## 6. 📈 Model Evaluation\n",
    "\n",
    "We evaluate the model using RMSE, R² Score, and residual analysis."
   ]
  },
  {
   "cell_type": "code",
   "execution_count": null,
   "id": "5c5081a5",
   "metadata": {},
   "outputs": [],
   "source": [
    "# let's visually compares the actual vs predicted prices for the first 10 rows in our test data.\n",
    "# to examine how well our model performs on unseen data (real vs predicted data)\n",
    "n = 20\n",
    "indices = np.arange(n)\n",
    "bar_width = 0.35\n",
    "\n",
    "plt.figure(figsize=(12, 6))\n",
    "plt.bar(indices, y_test.iloc[:n], width=bar_width, label='Actual Price', color='steelblue')\n",
    "plt.bar(indices + bar_width, predict[:n], width=bar_width, label='Predicted Price', color='coral')\n",
    "plt.xlabel('Sample Index')\n",
    "plt.ylabel('Price')\n",
    "plt.title('Linear Regression: Actual vs Predicted Prices (First 10 Samples)')\n",
    "plt.xticks(indices + bar_width / 2, labels=[str(i) for i in range(n)])\n",
    "plt.legend()\n",
    "plt.grid(True)\n",
    "plt.tight_layout()\n",
    "plt.show(block=True)"
   ]
  },
  {
   "cell_type": "markdown",
   "id": "feadee67-efed-4170-85c0-707c76043a21",
   "metadata": {},
   "source": [
    "## Insight on Bar Chart\n",
    "### 1. Model Performance is Generally Reasonable\n",
    "Most orange bars (predicted prices) are close to the blue bars (actual prices), meaning Linear Regression model has learned the general pricing pattern.\n",
    "\n",
    "### 2. Underprediction Trend\n",
    "In several samples — for example:\n",
    "\n",
    "* Sample 2 (index 2)\n",
    "* Sample 8\n",
    "* Sample 13\n",
    "* Sample 18\n",
    "\n",
    "The orange bars (predicted prices) are consistently lower than the actual prices.\n",
    "\n",
    "This could mean model slightly underpredicts for higher-priced homes. Linear regression can sometimes struggle with `extreme values` or `skewed distributions`.\n",
    "\n",
    "### 3. Low-Price Range Still Varies\n",
    "At the lower end (e.g., samples 5, 7, 16):\n",
    "\n",
    "The prediction is again lower than actual, though the margin is smaller.\n",
    "\n",
    "This might mean the model `underfits` slightly or doesn’t fully capture `nonlinear influences` (like area, room count, etc.)."
   ]
  },
  {
   "cell_type": "markdown",
   "id": "02d4117c",
   "metadata": {},
   "source": [
    "## 6. 📈 Model Evaluation\n",
    "\n",
    "We evaluate the model using RMSE, R² Score, and residual analysis."
   ]
  },
  {
   "cell_type": "code",
   "execution_count": null,
   "id": "af3039c2",
   "metadata": {},
   "outputs": [],
   "source": [
    "r2 = r2_score(y_test, predict)\n",
    "mse = mean_squared_error(y_test, predict)\n",
    "\n",
    "print(f\"R² Score: {r2:.2f}\")\n",
    "print(f\"Mean Squared Error: {mse:.2f}\")"
   ]
  },
  {
   "cell_type": "markdown",
   "id": "f16bfa9e-ad43-48bb-beed-7796b937016f",
   "metadata": {},
   "source": [
    "## Model Improvement\n",
    "For a bette result we are going to:\n",
    "1.  Log-transform the target variable Price (Log transformation helps stabilize variance and normalize skewed price distributions.)\n",
    "2. Add an Interaction Feature\n",
    "   We'll create a new feature: `Avg. Area Number of Rooms × Avg. Area Income`"
   ]
  },
  {
   "cell_type": "code",
   "execution_count": null,
   "id": "654f55ea",
   "metadata": {},
   "outputs": [],
   "source": [
    "df['Rooms_Income_Interaction'] = (\n",
    "    df['Avg. Area Number of Rooms'] * df['Avg. Area Income']\n",
    ")"
   ]
  },
  {
   "cell_type": "code",
   "execution_count": null,
   "id": "43436a82",
   "metadata": {},
   "outputs": [],
   "source": [
    "# Histogram of original prices\n",
    "sns.histplot(df['Price'], bins=50, kde=True)\n",
    "plt.title('Distribution of House Prices')\n",
    "plt.xlabel('Price')\n",
    "plt.ylabel('Frequency')\n",
    "plt.show(block=True)"
   ]
  },
  {
   "cell_type": "code",
   "execution_count": null,
   "id": "b0c0cd3e",
   "metadata": {},
   "outputs": [],
   "source": [
    "\n",
    "# Boxplot to visualize outliers\n",
    "sns.boxplot(x=df['Price'])\n",
    "plt.title('Boxplot of House Prices')\n",
    "plt.show(block=True)"
   ]
  },
  {
   "cell_type": "code",
   "execution_count": null,
   "id": "16a59926",
   "metadata": {},
   "outputs": [],
   "source": [
    "# Optional outlier capping\n",
    "price_cap = df['Price'].quantile(0.99)\n",
    "df = df[df['Price'] < price_cap]\n"
   ]
  },
  {
   "cell_type": "code",
   "execution_count": null,
   "id": "8a9cef28",
   "metadata": {},
   "outputs": [],
   "source": [
    "# Histogram of original prices\n",
    "sns.histplot(df['Price'], bins=50, kde=True)\n",
    "plt.title('Distribution of House Prices')\n",
    "plt.xlabel('Price')\n",
    "plt.ylabel('Frequency')\n",
    "plt.show(block=True)"
   ]
  },
  {
   "cell_type": "code",
   "execution_count": null,
   "id": "ea953f89",
   "metadata": {},
   "outputs": [],
   "source": [
    "X = df[['Avg. Area Income', 'Avg. Area House Age', \n",
    "        'Avg. Area Number of Rooms', 'Avg. Area Number of Bedrooms', \n",
    "        'Area Population', 'Rooms_Income_Interaction']]"
   ]
  },
  {
   "cell_type": "code",
   "execution_count": null,
   "id": "ce6d5077",
   "metadata": {},
   "outputs": [],
   "source": [
    "y = np.log(df['Price'])"
   ]
  },
  {
   "cell_type": "code",
   "execution_count": null,
   "id": "5dbb1bf2",
   "metadata": {},
   "outputs": [],
   "source": [
    "# Train-test split\n",
    "X_train, X_test, y_train, y_test = train_test_split(X, y, test_size=0.3, random_state=101)"
   ]
  },
  {
   "cell_type": "markdown",
   "id": "35cd077c",
   "metadata": {},
   "source": [
    "## 5. 🧠 Model Building\n",
    "\n",
    "We now train a linear regression model using scikit-learn."
   ]
  },
  {
   "cell_type": "code",
   "execution_count": null,
   "id": "6574c19f",
   "metadata": {},
   "outputs": [],
   "source": [
    "\n",
    "# Train model\n",
    "model = LinearRegression()\n",
    "model.fit(X_train, y_train)\n"
   ]
  },
  {
   "cell_type": "code",
   "execution_count": null,
   "id": "ff8e2807",
   "metadata": {},
   "outputs": [],
   "source": [
    "# Predict and reverse log\n",
    "y_pred_log = model.predict(X_test)"
   ]
  },
  {
   "cell_type": "code",
   "execution_count": null,
   "id": "f8601b9c",
   "metadata": {},
   "outputs": [],
   "source": [
    "y_pred = np.exp(y_pred_log)"
   ]
  },
  {
   "cell_type": "code",
   "execution_count": null,
   "id": "f3ab0345",
   "metadata": {},
   "outputs": [],
   "source": [
    "y_test_original = np.exp(y_test)"
   ]
  },
  {
   "cell_type": "code",
   "execution_count": null,
   "id": "f20f6841",
   "metadata": {},
   "outputs": [],
   "source": [
    "# Evaluation\n",
    "print(\"R² Score:\", r2_score(y_test_original, y_pred))\n",
    "print(\"MSE:\", mean_squared_error(y_test_original, y_pred))"
   ]
  },
  {
   "cell_type": "markdown",
   "id": "2582995a",
   "metadata": {},
   "source": [
    "## 6. 📈 Model Evaluation\n",
    "\n",
    "We evaluate the model using RMSE, R² Score, and residual analysis."
   ]
  },
  {
   "cell_type": "code",
   "execution_count": null,
   "id": "37dea080",
   "metadata": {},
   "outputs": [],
   "source": [
    "n = 20\n",
    "indices = np.arange(n)\n",
    "bar_width = 0.35\n",
    "\n",
    "plt.figure(figsize=(12, 6))\n",
    "plt.bar(indices, y_test.iloc[:n], width=bar_width, label='Actual Price', color='steelblue')\n",
    "plt.bar(indices + bar_width, predict[:n], width=bar_width, label='Predicted Price', color='coral')\n",
    "plt.xlabel('Sample Index')\n",
    "plt.ylabel('Price')\n",
    "plt.title('Linear Regression: Actual vs Predicted Prices (First 20 Samples)')\n",
    "plt.xticks(indices + bar_width / 2, labels=[str(i) for i in range(n)])\n",
    "plt.legend()\n",
    "plt.grid(True)\n",
    "plt.tight_layout()\n",
    "plt.show(block=True)"
   ]
  },
  {
   "cell_type": "markdown",
   "id": "079e6790",
   "metadata": {},
   "source": [
    "## 6. 📈 Model Evaluation\n",
    "\n",
    "We evaluate the model using RMSE, R² Score, and residual analysis."
   ]
  },
  {
   "cell_type": "code",
   "execution_count": null,
   "id": "6693cfdb",
   "metadata": {},
   "outputs": [],
   "source": [
    "n = 20\n",
    "indices = np.arange(n)\n",
    "bar_width = 0.35\n",
    "\n",
    "# Take first 20 actual and predicted prices\n",
    "actual_prices = y_test_original[:n]\n",
    "predicted_prices = y_pred[:n]\n",
    "\n",
    "# Plot\n",
    "plt.figure(figsize=(12, 6))\n",
    "plt.bar(indices, actual_prices, width=bar_width, label='Actual Price', color='steelblue')\n",
    "plt.bar(indices + bar_width, predicted_prices, width=bar_width, label='Predicted Price', color='coral')\n",
    "plt.xlabel('Sample Index')\n",
    "plt.ylabel('Price (in USD)')\n",
    "plt.title('Linear Regression (Log-Transformed): Actual vs Predicted Prices (First 20 Samples)')\n",
    "plt.xticks(indices + bar_width / 2, labels=[str(i) for i in range(n)])\n",
    "plt.legend()\n",
    "plt.grid(True)\n",
    "plt.tight_layout()\n",
    "plt.show()"
   ]
  },
  {
   "cell_type": "markdown",
   "id": "c026f012-9ad7-47bb-923f-f32cd26bb526",
   "metadata": {},
   "source": [
    "## Insight on Bar chart after log transformation and capped interaction feature\n",
    "### 1. Overall Fit is Much Better Now\n",
    "Compared to previous (non-transformed) Linear Regression model, the predictions are:\n",
    "\n",
    "* Closer to the actual values\n",
    "* Less under- or over-predicted on the extremes\n",
    "\n",
    "**This means log transformation + outlier capping + interaction feature has clearly improved  model’s generalization!** \n",
    "\n",
    "### 2. Still Slight Overprediction on Some Samples\n",
    "For example:\n",
    "\n",
    "Sample 14 and 16 have slightly higher predictions than the actual values.\n",
    "\n",
    "These could be homes that had some localized issue or features not captured by our existing variables.\n",
    "\n",
    "But overall, the margin is small and expected in real-world data.\n",
    "\n",
    "### 3. Balanced Error Spread\n",
    "Both overpredictions and underpredictions are present across the 20 samples.\n",
    "\n",
    "This balance suggests our model is not biased toward over- or under-estimation."
   ]
  },
  {
   "cell_type": "markdown",
   "id": "a66c6d0c",
   "metadata": {},
   "source": [
    "## 1. 📦 Importing Libraries"
   ]
  },
  {
   "cell_type": "code",
   "execution_count": null,
   "id": "86dcd853",
   "metadata": {},
   "outputs": [],
   "source": [
    "import joblib\n",
    "\n",
    "# Save the trained model\n",
    "joblib.dump(linear_model, 'house_price_model.pkl')\n"
   ]
  },
  {
   "cell_type": "code",
   "execution_count": null,
   "id": "49857d86",
   "metadata": {},
   "outputs": [],
   "source": []
  },
  {
   "cell_type": "markdown",
   "id": "a248e4a0",
   "metadata": {},
   "source": [
    "\n",
    "## 7. ✅ Conclusion\n",
    "\n",
    "This notebook shows how basic regression can effectively model relationships between housing features and price.  \n",
    "We also built a companion Flask app to allow users to interact with the model using a web interface, enabling real-time predictions.\n",
    "\n",
    "Key takeaways:\n",
    "- Area Income is highly predictive of house price.\n",
    "- Distribution and residuals indicate a reasonable model fit.\n",
    "- Flask integration brings data science to life with interactivity.\n"
   ]
  }
 ],
 "metadata": {
  "kernelspec": {
   "display_name": "Python 3 (ipykernel)",
   "language": "python",
   "name": "python3"
  },
  "language_info": {
   "codemirror_mode": {
    "name": "ipython",
    "version": 3
   },
   "file_extension": ".py",
   "mimetype": "text/x-python",
   "name": "python",
   "nbconvert_exporter": "python",
   "pygments_lexer": "ipython3",
   "version": "3.12.7"
  }
 },
 "nbformat": 4,
 "nbformat_minor": 5
}
